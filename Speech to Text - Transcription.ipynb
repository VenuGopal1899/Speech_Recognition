{
 "cells": [
  {
   "cell_type": "code",
   "execution_count": 10,
   "id": "powerful-boating",
   "metadata": {},
   "outputs": [],
   "source": [
    "import pandas as pd"
   ]
  },
  {
   "cell_type": "code",
   "execution_count": 11,
   "id": "verbal-exclusive",
   "metadata": {},
   "outputs": [],
   "source": [
    "trans_file_19_198 = pd.read_csv(\"./19/198/19-198.trans.txt\", header = None)\n",
    "trans_file_19_227 = pd.read_csv(\"./19/227/19-227.trans.txt\", header = None)"
   ]
  },
  {
   "cell_type": "code",
   "execution_count": 15,
   "id": "characteristic-xerox",
   "metadata": {},
   "outputs": [],
   "source": [
    "res_file_19_198 = []\n",
    "res_file_19_227 = []\n",
    "\n",
    "for each_line in trans_file_19_198[0]:\n",
    "    res_file_19_198 += [each_line.split(' ', 1)]\n",
    "\n",
    "for each_line in trans_file_19_227[0]:\n",
    "    res_file_19_227 += [each_line.split(' ', 1)]\n",
    "    \n",
    "df_19_198 = pd.DataFrame(res_file_19_198)\n",
    "df_19_227 = pd.DataFrame(res_file_19_227)\n",
    "\n",
    "df_19_198.columns = ['File Name', 'Original Transcription']\n",
    "df_19_227.columns = ['File Name', 'Original Transcription']\n",
    "\n",
    "df_19_198.set_index('File Name', inplace = True)\n",
    "df_19_227.set_index('File Name', inplace = True)"
   ]
  },
  {
   "cell_type": "code",
   "execution_count": 13,
   "id": "similar-resident",
   "metadata": {},
   "outputs": [],
   "source": [
    "df_19_198.to_csv('./19/Output_19_198.csv')\n",
    "df_19_227.to_csv('./19/Output_19_227.csv')"
   ]
  }
 ],
 "metadata": {
  "kernelspec": {
   "display_name": "Python 3",
   "language": "python",
   "name": "python3"
  },
  "language_info": {
   "codemirror_mode": {
    "name": "ipython",
    "version": 3
   },
   "file_extension": ".py",
   "mimetype": "text/x-python",
   "name": "python",
   "nbconvert_exporter": "python",
   "pygments_lexer": "ipython3",
   "version": "3.7.10"
  }
 },
 "nbformat": 4,
 "nbformat_minor": 5
}
