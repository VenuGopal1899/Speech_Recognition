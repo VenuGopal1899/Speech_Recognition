{
 "cells": [
  {
   "cell_type": "code",
   "execution_count": 3,
   "id": "robust-membrane",
   "metadata": {},
   "outputs": [],
   "source": [
    "import warnings\n",
    "warnings.filterwarnings('ignore')"
   ]
  },
  {
   "cell_type": "code",
   "execution_count": 4,
   "id": "excited-kazakhstan",
   "metadata": {},
   "outputs": [
    {
     "name": "stderr",
     "output_type": "stream",
     "text": [
      "[nltk_data] Downloading package stopwords to\n",
      "[nltk_data]     C:\\Users\\VenuGopal\\AppData\\Roaming\\nltk_data...\n",
      "[nltk_data]   Package stopwords is already up-to-date!\n",
      "[nltk_data] Downloading package wordnet to\n",
      "[nltk_data]     C:\\Users\\VenuGopal\\AppData\\Roaming\\nltk_data...\n",
      "[nltk_data]   Package wordnet is already up-to-date!\n"
     ]
    },
    {
     "data": {
      "text/plain": [
       "True"
      ]
     },
     "execution_count": 4,
     "metadata": {},
     "output_type": "execute_result"
    }
   ],
   "source": [
    "#Text pre-processing\n",
    "\"\"\"removes punctuation, stopwords, and returns a list of the remaining words, or tokens\"\"\"\n",
    "import nltk\n",
    "from nltk.corpus import stopwords\n",
    "from nltk.stem import WordNetLemmatizer\n",
    "nltk.download('stopwords')\n",
    "nltk.download('wordnet')"
   ]
  },
  {
   "cell_type": "code",
   "execution_count": 5,
   "id": "comparative-packaging",
   "metadata": {},
   "outputs": [],
   "source": [
    "# Cleaning the text\n",
    "import string\n",
    "\n",
    "def text_process(text):\n",
    "    '''\n",
    "    Takes in a string of text, then performs the following:\n",
    "    1. Remove all punctuation\n",
    "    2. Remove all stopwords\n",
    "    3. Return the cleaned text as a list of words\n",
    "    4. Remove words\n",
    "    '''\n",
    "    stemmer = WordNetLemmatizer()\n",
    "    nopunc = [char for char in text if char not in string.punctuation]\n",
    "    nopunc = ''.join([i for i in nopunc if not i.isdigit()])\n",
    "    nopunc =  [word.lower() for word in nopunc.split() if word not in stopwords.words('english')]\n",
    "#   Print each chunk\n",
    "#   print([stemmer.lemmatize(word) for word in nopunc]) \n",
    "    return [stemmer.lemmatize(word) for word in nopunc]"
   ]
  },
  {
   "cell_type": "code",
   "execution_count": 6,
   "id": "seventh-manchester",
   "metadata": {},
   "outputs": [],
   "source": [
    "# importing libraries \n",
    "import speech_recognition as sr \n",
    "import os \n",
    "from pydub import AudioSegment\n",
    "from pydub.silence import split_on_silence\n",
    "\n",
    "# create a speech recognition object\n",
    "r = sr.Recognizer()\n",
    "\n",
    "# a function that splits the audio file into chunks\n",
    "# and applies speech recognition\n",
    "def get_large_audio_transcription(path):\n",
    "    \n",
    "    # Cleaned paragraph from given audio file\n",
    "    cleaned_paragraph = []\n",
    "    \n",
    "    \"\"\"\n",
    "    Splitting the large audio file into chunks\n",
    "    and apply speech recognition on each of these chunks\n",
    "    \"\"\"\n",
    "    # open the audio file using pydub\n",
    "    sound = AudioSegment.from_wav(path)  \n",
    "    # split audio sound where silence is 700 miliseconds or more and get chunks\n",
    "    chunks = split_on_silence(sound,\n",
    "        # experiment with this value for your target audio file\n",
    "        min_silence_len = 500,\n",
    "        # adjust this per requirement\n",
    "        silence_thresh = sound.dBFS-14,\n",
    "        # keep the silence for 1 second, adjustable as well\n",
    "        keep_silence=500,\n",
    "    )\n",
    "    folder_name = \"audio-chunks\"\n",
    "    # create a directory to store the audio chunks\n",
    "    if not os.path.isdir(folder_name):\n",
    "        os.mkdir(folder_name)\n",
    "    whole_text = \"\"\n",
    "    # process each chunk \n",
    "    for i, audio_chunk in enumerate(chunks, start=1):\n",
    "        # export audio chunk and save it in\n",
    "        # the `folder_name` directory.\n",
    "        chunk_filename = os.path.join(folder_name, f\"chunk{i}.wav\")\n",
    "        audio_chunk.export(chunk_filename, format=\"wav\")\n",
    "        # recognize the chunk\n",
    "        with sr.AudioFile(chunk_filename) as source:\n",
    "            audio_listened = r.record(source)\n",
    "            # try converting it to text\n",
    "            try:\n",
    "                text = r.recognize_google(audio_listened)\n",
    "            except sr.UnknownValueError as e:\n",
    "                print(\"Error:\", str(e))\n",
    "            else:\n",
    "                text = f\"{text.capitalize()}. \"\n",
    "                print(chunk_filename, \":\", text)\n",
    "                cleaned_paragraph += text_process(text)\n",
    "                whole_text += text\n",
    "    # return the text for all chunks detected\n",
    "    print(\"\\nCleaned Paragraph :\\n\",cleaned_paragraph)\n",
    "    return whole_text"
   ]
  },
  {
   "cell_type": "code",
   "execution_count": 7,
   "id": "aggregate-graphic",
   "metadata": {},
   "outputs": [
    {
     "name": "stdout",
     "output_type": "stream",
     "text": [
      "audio-chunks\\chunk1.wav : His about which she had fixed a bug for country seat. \n",
      "audio-chunks\\chunk2.wav : Are short distance to the city. \n",
      "audio-chunks\\chunk3.wav : Just that what is now called dutch street. \n",
      "audio-chunks\\chunk4.wav : Should bounded with proofs of his ingenuity. \n",
      "audio-chunks\\chunk5.wav : And smoke jack. \n",
      "audio-chunks\\chunk6.wav : Required host version. \n",
      "audio-chunks\\chunk7.wav : Church of windsor was to meet without fire. \n",
      "audio-chunks\\chunk8.wav : Chords for the horses. \n",
      "audio-chunks\\chunk9.wav : Weather cox it turned against the wind and other one headed could try with this. \n",
      "audio-chunks\\chunk10.wav : Rustom stand confounded o b holders. \n",
      "\n",
      "Cleaned Paragraph :\n",
      " ['his', 'fixed', 'bug', 'country', 'seat', 'are', 'short', 'distance', 'city', 'just', 'called', 'dutch', 'street', 'should', 'bounded', 'proof', 'ingenuity', 'and', 'smoke', 'jack', 'required', 'host', 'version', 'church', 'windsor', 'meet', 'without', 'fire', 'chord', 'horse', 'weather', 'cox', 'turned', 'wind', 'one', 'headed', 'could', 'try', 'rustom', 'stand', 'confounded', 'b', 'holder']\n",
      "\n",
      "Full text : \n",
      " His about which she had fixed a bug for country seat. Are short distance to the city. Just that what is now called dutch street. Should bounded with proofs of his ingenuity. And smoke jack. Required host version. Church of windsor was to meet without fire. Chords for the horses. Weather cox it turned against the wind and other one headed could try with this. Rustom stand confounded o b holders. \n"
     ]
    }
   ],
   "source": [
    "path = \"audio_file2.wav\"\n",
    "print(\"\\nFull text : \\n\", get_large_audio_transcription(path))"
   ]
  },
  {
   "cell_type": "code",
   "execution_count": 8,
   "id": "unique-grammar",
   "metadata": {},
   "outputs": [],
   "source": [
    "# Part 2"
   ]
  },
  {
   "cell_type": "code",
   "execution_count": 9,
   "id": "temporal-breakfast",
   "metadata": {},
   "outputs": [],
   "source": [
    "# Import libraries for implementing K-Means Clustering\n",
    "\n",
    "import smart_open\n",
    "smart_open.open = smart_open.smart_open\n",
    "from gensim.models import Word2Vec\n",
    "import numpy as np\n",
    "from sklearn.cluster import KMeans\n",
    "from sklearn import cluster\n",
    "from sklearn import metrics\n",
    "from sklearn.decomposition import PCA"
   ]
  },
  {
   "cell_type": "code",
   "execution_count": 10,
   "id": "parental-savannah",
   "metadata": {},
   "outputs": [
    {
     "name": "stdout",
     "output_type": "stream",
     "text": [
      "[['milk', 'water', 'liquid'], ['drink', 'water', 'milk'], ['learning', 'good', 'deep', 'good', 'book'], ['water', 'colour', 'milk', 'white'], ['one', 'book'], ['time', 'railway', 'station'], ['time', 'railway', 'station', 'train'], ['india', 'pakistan', 'match'], ['india', 'pakistan', 'war'], ['train', 'railway', 'station'], ['india', 'blue', 'pakistan', 'green']]\n"
     ]
    }
   ],
   "source": [
    "str1 = \"milk and water liquids\"\n",
    "str2 = \"drink water and milk\"\n",
    "str3 = \"this is the learning good deep good book\"\n",
    "str4 = \"water no colour milk white\"\n",
    "str5 = \"one more book\"\n",
    "str6 = \"time railway station\"\n",
    "str7 = \"time railway station train\"\n",
    "str8 = \"india pakistan match\"\n",
    "str9 = \"india pakistan war\"\n",
    "str10 = \"train railway station\"\n",
    "str11 = \"india blue pakistan green\"\n",
    "\n",
    "sentences = [text_process(str1)]+[text_process(str2)]+[text_process(str3)]+[text_process(str4)]+\\\n",
    "[text_process(str5)]+[text_process(str6)]+[text_process(str7)]+[text_process(str8)]+\\\n",
    "[text_process(str9)]+[text_process(str10)]+[text_process(str11)]\n",
    "\n",
    "print(sentences)"
   ]
  },
  {
   "cell_type": "code",
   "execution_count": 11,
   "id": "measured-vocabulary",
   "metadata": {},
   "outputs": [],
   "source": [
    "model = Word2Vec(sentences, size = 50, min_count = 1, sg = 1)"
   ]
  },
  {
   "cell_type": "code",
   "execution_count": 12,
   "id": "variable-monster",
   "metadata": {},
   "outputs": [],
   "source": [
    "def vectorizer(sentence, model):\n",
    "    vector = []\n",
    "    numOfWords = 0\n",
    "    for word in sentence:\n",
    "        try:\n",
    "            if numOfWords == 0:\n",
    "                vector = model[word]\n",
    "            else:\n",
    "                vector = np.add(vector, model[word])\n",
    "            \n",
    "            numOfWords += 1\n",
    "        except:\n",
    "            pass\n",
    "    \n",
    "    return np.asarray(vector)/numOfWords"
   ]
  },
  {
   "cell_type": "code",
   "execution_count": 13,
   "id": "waiting-disabled",
   "metadata": {},
   "outputs": [
    {
     "name": "stdout",
     "output_type": "stream",
     "text": [
      "(11, 50)\n"
     ]
    }
   ],
   "source": [
    "l = []\n",
    "\n",
    "for sentence in sentences:\n",
    "    l.append(vectorizer(sentence, model))\n",
    "    \n",
    "X = np.array(l)\n",
    "\n",
    "print(X.shape)"
   ]
  },
  {
   "cell_type": "code",
   "execution_count": 14,
   "id": "treated-rapid",
   "metadata": {},
   "outputs": [
    {
     "data": {
      "image/png": "[encoded data removed]",
      "text/plain": [
       "<Figure size 432x288 with 1 Axes>"
      ]
     },
     "metadata": {
      "needs_background": "light"
     },
     "output_type": "display_data"
    }
   ],
   "source": [
    "import matplotlib.pyplot as plt\n",
    "\n",
    "# Within cluster sum of squares\n",
    "\n",
    "wcss = []\n",
    "\n",
    "for i in range(1,7):\n",
    "    kmeans = KMeans(n_clusters=i, init='k-means++')\n",
    "    kmeans.fit(X)\n",
    "    wcss.append(kmeans.inertia_)\n",
    "    \n",
    "plt.plot(range(1,7), wcss)\n",
    "plt.title('Elbow Method')\n",
    "plt.xlabel('Number of Clusters')\n",
    "plt.ylabel('WCSS')\n",
    "\n",
    "plt.show()"
   ]
  },
  {
   "cell_type": "code",
   "execution_count": 15,
   "id": "collected-scene",
   "metadata": {},
   "outputs": [
    {
     "data": {
      "text/plain": [
       "<Figure size 432x288 with 0 Axes>"
      ]
     },
     "metadata": {},
     "output_type": "display_data"
    }
   ],
   "source": [
    "plt.savefig('Elbow-Method.png')\n",
    "plt.savefig('Elbow-Method.jpg')"
   ]
  },
  {
   "cell_type": "code",
   "execution_count": 16,
   "id": "stunning-queen",
   "metadata": {},
   "outputs": [
    {
     "name": "stdout",
     "output_type": "stream",
     "text": [
      "[0 0 2 0 3 1 1 2 2 1 2]\n",
      "0 : ['milk', 'water', 'liquid']\n",
      "0 : ['drink', 'water', 'milk']\n",
      "2 : ['learning', 'good', 'deep', 'good', 'book']\n",
      "0 : ['water', 'colour', 'milk', 'white']\n",
      "3 : ['one', 'book']\n",
      "1 : ['time', 'railway', 'station']\n",
      "1 : ['time', 'railway', 'station', 'train']\n",
      "2 : ['india', 'pakistan', 'match']\n",
      "2 : ['india', 'pakistan', 'war']\n",
      "1 : ['train', 'railway', 'station']\n",
      "2 : ['india', 'blue', 'pakistan', 'green']\n"
     ]
    }
   ],
   "source": [
    "# Hence, from The Elbow Method, n_clusters = 4\n",
    "\n",
    "n_clusters = 4\n",
    "\n",
    "clf = KMeans(n_clusters=n_clusters, max_iter=100, init='k-means++', n_init=1)\n",
    "\n",
    "labels = clf.fit_predict(X)\n",
    "\n",
    "print(labels)\n",
    "\n",
    "for index, sentence in enumerate(sentences):\n",
    "    print(str(labels[index]) + \" : \" + str(sentence))"
   ]
  }
 ],
 "metadata": {
  "kernelspec": {
   "display_name": "Python 3",
   "language": "python",
   "name": "python3"
  },
  "language_info": {
   "codemirror_mode": {
    "name": "ipython",
    "version": 3
   },
   "file_extension": ".py",
   "mimetype": "text/x-python",
   "name": "python",
   "nbconvert_exporter": "python",
   "pygments_lexer": "ipython3",
   "version": "3.7.10"
  }
 },
 "nbformat": 4,
 "nbformat_minor": 5
}
